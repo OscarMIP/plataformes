{
 "cells": [
  {
   "cell_type": "code",
   "execution_count": null,
   "metadata": {},
   "outputs": [],
   "source": [
    "plataformes = [['PC', 20], ['Xbox', 24]]\n",
    "print(plataformes[0][0])\n",
    "plataformes.append(['PS4', 30])\n",
    "print(plataformes)\n",
    "print(plataformes[2][0])"
   ]
  },
  {
   "cell_type": "code",
   "execution_count": null,
   "metadata": {},
   "outputs": [],
   "source": []
  }
 ],
 "metadata": {
  "language_info": {
   "name": "python"
  }
 },
 "nbformat": 4,
 "nbformat_minor": 2
}
